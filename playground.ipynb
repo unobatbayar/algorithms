{
 "cells": [
  {
   "cell_type": "code",
   "execution_count": null,
   "metadata": {},
   "outputs": [],
   "source": [
    "n = 0b00001\n",
    "n = (n >> 5) ^ 1\n",
    "print(bin(n))"
   ]
  },
  {
   "cell_type": "code",
   "execution_count": 36,
   "metadata": {},
   "outputs": [
    {
     "name": "stdout",
     "output_type": "stream",
     "text": [
      "28\n",
      "92\n"
     ]
    }
   ],
   "source": [
    "import sys\n",
    "\n",
    "n = 0b10110001\n",
    "# print(bin(n))\n",
    "print(sys.getsizeof(n))\n",
    "n = n << 500\n",
    "print(sys.getsizeof(n))\n",
    "# print(n)\n",
    "\n",
    "\n",
    "def get_nth_bit(value, n):\n",
    "    return (value >> n) & 1\n",
    "\n",
    "# print(get_nth_bit(n, 3))\n"
   ]
  }
 ],
 "metadata": {
  "kernelspec": {
   "display_name": "Python 3",
   "language": "python",
   "name": "python3"
  },
  "language_info": {
   "codemirror_mode": {
    "name": "ipython",
    "version": 3
   },
   "file_extension": ".py",
   "mimetype": "text/x-python",
   "name": "python",
   "nbconvert_exporter": "python",
   "pygments_lexer": "ipython3",
   "version": "3.9.6"
  }
 },
 "nbformat": 4,
 "nbformat_minor": 2
}
