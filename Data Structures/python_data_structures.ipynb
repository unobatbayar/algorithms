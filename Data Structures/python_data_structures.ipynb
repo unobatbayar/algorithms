{
 "cells": [
  {
   "attachments": {},
   "cell_type": "markdown",
   "metadata": {},
   "source": [
    "## Data-structures in Python\n",
    "\n",
    "Reference: W3Schools, Python Tutorial. Available at: https://www.w3schools.com/python"
   ]
  },
  {
   "attachments": {},
   "cell_type": "markdown",
   "metadata": {},
   "source": [
    "### Built-in Data Types\n",
    "Text Type: \t    str\n",
    "\n",
    "Numeric Types: \tint, float, complex\n",
    "\n",
    "Sequence Types: list, tuple, range\n",
    "\n",
    "Mapping Type: \tdict\n",
    "\n",
    "Set Types: \t    set, frozenset\n",
    "\n",
    "Boolean Type: \tbool\n",
    "\n",
    "Binary Types: \tbytes, bytearray, memoryview\n",
    "\n",
    "None Type: \t    NoneType"
   ]
  },
  {
   "cell_type": "code",
   "execution_count": 16,
   "metadata": {},
   "outputs": [],
   "source": [
    "x = \"Hello World\" \t# str \t\n",
    "x = 20 \t# int \t\n",
    "x = 20.5 \t# float \t\n",
    "x = 1j \t# complex \t\n",
    "x = [\"apple\", \"banana\", \"cherry\"] \t# list \t\n",
    "x = (\"apple\", \"banana\", \"cherry\") \t# tuple \t\n",
    "x = range(6) \t# range \t\n",
    "x = {\"name\" : \"John\", \"age\" : 36} \t# dict \t\n",
    "x = {\"apple\", \"banana\", \"cherry\"} \t# set \t\n",
    "x = frozenset({\"apple\", \"banana\", \"cherry\"}) \t# frozenset \t\n",
    "x = True \t# bool \t\n",
    "bytex = b\"Hello\" \t# bytes \t\n",
    "x = bytearray(5) \t# bytearray \t\n",
    "x = memoryview(bytes(5)) \t# memoryview \t\n",
    "x = None"
   ]
  },
  {
   "cell_type": "code",
   "execution_count": 17,
   "metadata": {},
   "outputs": [
    {
     "name": "stdout",
     "output_type": "stream",
     "text": [
      "<class 'NoneType'>\n",
      "b'\\x00\\x00\\x00\\x00\\x00'\n"
     ]
    }
   ],
   "source": [
    "# See the data type of x\n",
    "print(type(x))\n",
    "\n",
    "print(bytes(5))"
   ]
  },
  {
   "cell_type": "code",
   "execution_count": 18,
   "metadata": {},
   "outputs": [
    {
     "name": "stdout",
     "output_type": "stream",
     "text": [
      "Orange\n",
      "Banana\n",
      "Cherry\n"
     ]
    }
   ],
   "source": [
    "# We can assign multiple values at the same time!\n",
    "x, y, z = \"Orange\", \"Banana\", \"Cherry\"\n",
    "print(x)\n",
    "print(y)\n",
    "print(z)"
   ]
  },
  {
   "attachments": {},
   "cell_type": "markdown",
   "metadata": {},
   "source": [
    "## Type Conversion"
   ]
  },
  {
   "cell_type": "code",
   "execution_count": 19,
   "metadata": {},
   "outputs": [
    {
     "name": "stdout",
     "output_type": "stream",
     "text": [
      "1.0\n",
      "2\n",
      "(1+0j)\n",
      "<class 'float'>\n",
      "<class 'int'>\n",
      "<class 'complex'>\n"
     ]
    }
   ],
   "source": [
    "x = 1    # int\n",
    "y = 2.8  # float\n",
    "z = 1j   # complex\n",
    "\n",
    "#convert from int to float:\n",
    "a = float(x)\n",
    "\n",
    "#convert from float to int:\n",
    "b = int(y)\n",
    "\n",
    "#convert from int to complex:\n",
    "c = complex(x)\n",
    "\n",
    "print(a)\n",
    "print(b)\n",
    "print(c)\n",
    "\n",
    "print(type(a))\n",
    "print(type(b))\n",
    "print(type(c)) "
   ]
  }
 ],
 "metadata": {
  "kernelspec": {
   "display_name": "Python 3",
   "language": "python",
   "name": "python3"
  },
  "language_info": {
   "codemirror_mode": {
    "name": "ipython",
    "version": 3
   },
   "file_extension": ".py",
   "mimetype": "text/x-python",
   "name": "python",
   "nbconvert_exporter": "python",
   "pygments_lexer": "ipython3",
   "version": "3.11.3"
  },
  "orig_nbformat": 4
 },
 "nbformat": 4,
 "nbformat_minor": 2
}
