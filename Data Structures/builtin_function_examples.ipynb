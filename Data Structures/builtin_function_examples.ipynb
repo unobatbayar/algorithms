{
 "cells": [
  {
   "cell_type": "code",
   "execution_count": null,
   "metadata": {},
   "outputs": [],
   "source": [
    "# map()\n",
    "# Purpose: Applies a given function to each item in an iterable and returns a map object (iterator).\n",
    "numbers = [1, 2, 3, 4]\n",
    "result = map(lambda x: x ** 2, numbers)\n",
    "print(list(result))  # Output: [1, 4, 9, 16]"
   ]
  },
  {
   "cell_type": "code",
   "execution_count": null,
   "metadata": {},
   "outputs": [],
   "source": [
    "# filter()\n",
    "# Purpose: Filters elements from an iterable based on a given function that returns True or False. It returns an iterator.\n",
    "numbers = [1, 2, 3, 4, 5]\n",
    "result = filter(lambda x: x % 2 == 0, numbers)\n",
    "print(list(result))  # Output: [2, 4]"
   ]
  },
  {
   "cell_type": "code",
   "execution_count": null,
   "metadata": {},
   "outputs": [],
   "source": [
    "# reduce() (from functools)\n",
    "# Purpose: Applies a binary function cumulatively to the items of an iterable, reducing it to a single value.\n",
    "from functools import reduce\n",
    "numbers = [1, 2, 3, 4]\n",
    "result = reduce(lambda x, y: x * y, numbers)\n",
    "print(result)  # Output: 24"
   ]
  },
  {
   "cell_type": "code",
   "execution_count": null,
   "metadata": {},
   "outputs": [],
   "source": [
    "# sorted()\n",
    "# Purpose: Returns a new sorted list from the elements of any iterable (can sort in ascending or descending order).\n",
    "numbers = [4, 2, 3, 1]\n",
    "result = sorted(numbers)\n",
    "print(result)  # Output: [1, 2, 3, 4]"
   ]
  },
  {
   "cell_type": "code",
   "execution_count": null,
   "metadata": {},
   "outputs": [],
   "source": [
    "# zip()\n",
    "# Purpose: Aggregates elements from multiple iterables into tuples. It pairs elements by their positions.\n",
    "names = ['Alice', 'Bob', 'Charlie']\n",
    "scores = [85, 90, 88]\n",
    "result = list(zip(names, scores))\n",
    "print(result)  # Output: [('Alice', 85), ('Bob', 90), ('Charlie', 88)]"
   ]
  },
  {
   "cell_type": "code",
   "execution_count": null,
   "metadata": {},
   "outputs": [],
   "source": [
    "# all() / any()\n",
    "# Purpose: all() checks if all elements in an iterable are True, any() checks if at least one element is True.\n",
    "numbers = [1, 2, 3]\n",
    "print(all(x > 0 for x in numbers))  # Output: True\n",
    "print(any(x < 0 for x in numbers))  # Output: False\n"
   ]
  },
  {
   "cell_type": "code",
   "execution_count": null,
   "metadata": {},
   "outputs": [],
   "source": [
    "# in\n",
    "quote = \"Be curious. Read widely. Try new things. What people say intelligence just boils down to curiosity.\"\n",
    "keyword = \"intelligence\"\n",
    "if keyword in quote:\n",
    "  print(\"Yes, \" + keyword + \" is present.\")"
   ]
  }
 ],
 "metadata": {
  "kernelspec": {
   "display_name": "Python 3",
   "language": "python",
   "name": "python3"
  },
  "language_info": {
   "name": "python",
   "version": "3.13.1"
  }
 },
 "nbformat": 4,
 "nbformat_minor": 2
}
