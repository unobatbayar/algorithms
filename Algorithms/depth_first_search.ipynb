{
 "cells": [
  {
   "attachments": {},
   "cell_type": "markdown",
   "metadata": {},
   "source": [
    "## Depth First Search\n",
    "A graph traversal algorithm that explores a graph in a depthward motion, visiting as far as possible along each branch before backtracking. \n",
    "\n",
    "The history of DFS dates back to the 19th century, and its precise origins and early developments involve several mathematicians and computer scientists.\n",
    "\n",
    "It has variety of use cases such as:\n",
    "- Graph Traversal\n",
    "- Maze Solving\n",
    "- Finding Strongly Connected Components\n",
    "- Topological Sorting\n",
    "- Generating Permutations and Combinations"
   ]
  },
  {
   "cell_type": "code",
   "execution_count": 7,
   "metadata": {},
   "outputs": [],
   "source": [
    "def dfs(graph, start, visited=None):\n",
    "    \"\"\"\n",
    "    Perform a Depth-First Search traversal of a graph.\n",
    "\n",
    "    :param graph: The graph represented as an adjacency list.\n",
    "    :param start: The starting vertex for the DFS traversal.\n",
    "    :param visited: A set to keep track of visited vertices (used internally).\n",
    "    \"\"\"\n",
    "\n",
    "    # Create an empty set to store visited vertices\n",
    "    # x = set(('A', 'B', 'C')) <- Example set\n",
    "    if visited is None:\n",
    "        visited = set()\n",
    "    \n",
    "    # Visit the current vertex and add it to the visited set\n",
    "    print(\"Visiting vertex:\", start)\n",
    "    visited.add(start)\n",
    "\n",
    "    # Traverse all adjacent vertices of the current vertex\n",
    "    for neighbor in graph[start]:\n",
    "        if neighbor not in visited:\n",
    "            dfs(graph, neighbor, visited)  # Recursive call to visit the neighbor"
   ]
  },
  {
   "cell_type": "code",
   "execution_count": 8,
   "metadata": {},
   "outputs": [
    {
     "ename": "AttributeError",
     "evalue": "'list' object has no attribute 'left'",
     "output_type": "error",
     "traceback": [
      "\u001b[0;31m---------------------------------------------------------------------------\u001b[0m",
      "\u001b[0;31mAttributeError\u001b[0m                            Traceback (most recent call last)",
      "Cell \u001b[0;32mIn[8], line 31\u001b[0m\n\u001b[1;32m     29\u001b[0m solution \u001b[39m=\u001b[39m Solution()\n\u001b[1;32m     30\u001b[0m root \u001b[39m=\u001b[39m [\u001b[39m3\u001b[39m,\u001b[39m9\u001b[39m,\u001b[39m20\u001b[39m,\u001b[39mNone\u001b[39;00m,\u001b[39mNone\u001b[39;00m,\u001b[39m15\u001b[39m,\u001b[39m7\u001b[39m]\n\u001b[0;32m---> 31\u001b[0m solution\u001b[39m.\u001b[39;49mmaxDepth(root)\n",
      "Cell \u001b[0;32mIn[8], line 13\u001b[0m, in \u001b[0;36mSolution.maxDepth\u001b[0;34m(self, root)\u001b[0m\n\u001b[1;32m     11\u001b[0m \u001b[39mdef\u001b[39;00m \u001b[39mmaxDepth\u001b[39m(\u001b[39mself\u001b[39m, root: TreeNode) \u001b[39m-\u001b[39m\u001b[39m>\u001b[39m \u001b[39mint\u001b[39m:\n\u001b[1;32m     12\u001b[0m     \u001b[39mself\u001b[39m\u001b[39m.\u001b[39mcount \u001b[39m=\u001b[39m \u001b[39m1\u001b[39m \u001b[39m# initialize\u001b[39;00m\n\u001b[0;32m---> 13\u001b[0m     \u001b[39mself\u001b[39;49m\u001b[39m.\u001b[39;49mdfs(root)\n\u001b[1;32m     14\u001b[0m     \u001b[39mreturn\u001b[39;00m \u001b[39mself\u001b[39m\u001b[39m.\u001b[39mcount\n",
      "Cell \u001b[0;32mIn[8], line 19\u001b[0m, in \u001b[0;36mSolution.dfs\u001b[0;34m(self, root)\u001b[0m\n\u001b[1;32m     17\u001b[0m \u001b[39mif\u001b[39;00m root \u001b[39mis\u001b[39;00m \u001b[39mnot\u001b[39;00m \u001b[39mNone\u001b[39;00m:\n\u001b[1;32m     18\u001b[0m     found \u001b[39m=\u001b[39m \u001b[39mFalse\u001b[39;00m\n\u001b[0;32m---> 19\u001b[0m     \u001b[39mif\u001b[39;00m root\u001b[39m.\u001b[39;49mleft:\n\u001b[1;32m     20\u001b[0m         \u001b[39mself\u001b[39m\u001b[39m.\u001b[39mdfs(root\u001b[39m.\u001b[39mleft)\n\u001b[1;32m     21\u001b[0m         found \u001b[39m=\u001b[39m \u001b[39mTrue\u001b[39;00m\n",
      "\u001b[0;31mAttributeError\u001b[0m: 'list' object has no attribute 'left'"
     ]
    }
   ],
   "source": [
    "from typing import Optional\n",
    "\n",
    "# Definition for a binary tree node.\n",
    "class TreeNode:\n",
    "    def __init__(self, val=0, left=None, right=None):\n",
    "        self.val = val\n",
    "        self.left = left\n",
    "        self.right = right\n",
    "        \n",
    "class Solution:\n",
    "    def maxDepth(self, root: Optional[TreeNode]) -> int:\n",
    "        self.count = 1 # initialize\n",
    "        self.dfs(root)\n",
    "        return self.count\n",
    "\n",
    "    def dfs(self, root:Optional[TreeNode]):\n",
    "        if root is not None:\n",
    "            found = False\n",
    "            if root.left:\n",
    "                self.dfs(root.left)\n",
    "                found = True\n",
    "            if root.right:\n",
    "                self.dfs(root.right)\n",
    "                found = True\n",
    "            if found:\n",
    "                self.count += 1\n",
    "            \n",
    "        \n",
    "solution = Solution()\n",
    "root = [3,9,20,None,None,15,7]\n",
    "solution.maxDepth(root)\n",
    "            \n",
    "            \n",
    "\n",
    "            \n",
    "\n",
    "        "
   ]
  },
  {
   "attachments": {},
   "cell_type": "markdown",
   "metadata": {},
   "source": []
  },
  {
   "cell_type": "code",
   "execution_count": null,
   "metadata": {},
   "outputs": [
    {
     "name": "stdout",
     "output_type": "stream",
     "text": [
      "Visiting vertex: A\n",
      "Visiting vertex: B\n",
      "Visiting vertex: D\n",
      "Visiting vertex: E\n",
      "Visiting vertex: F\n",
      "Visiting vertex: C\n"
     ]
    }
   ],
   "source": [
    "# Define a graph as an adjacency list\n",
    "graph = {\n",
    "    'A': ['B', 'C'],\n",
    "    'B': ['D', 'E'],\n",
    "    'C': ['F'],\n",
    "    'D': [],\n",
    "    'E': ['F'],\n",
    "    'F': []\n",
    "}\n",
    "# Call the DFS function with the graph and the starting vertex\n",
    "dfs(graph, 'A')"
   ]
  },
  {
   "cell_type": "code",
   "execution_count": null,
   "metadata": {},
   "outputs": [],
   "source": [
    "class Node:\n",
    "    def __init__(self, value):\n",
    "        self.value = value\n",
    "        self.children = []\n",
    "\n",
    "    def add_child(self, child):\n",
    "        self.children.append(child)\n",
    "\n",
    "def dfs(node, level=0):\n",
    "    \"\"\"\n",
    "    Perform a Depth-First Search traversal of a tree and visualize the tree structure.\n",
    "\n",
    "    :param node: The root node of the tree.\n",
    "    :param level: The current level of the tree (used internally for visualization).\n",
    "    \"\"\"\n",
    "    # Visualize the current node\n",
    "    print(\"  \" * level + \"|--\", node.value)\n",
    "\n",
    "    # Traverse all children of the current node\n",
    "    for child in node.children:\n",
    "        dfs(child, level + 1)  # Recursive call to visit the child"
   ]
  },
  {
   "cell_type": "code",
   "execution_count": null,
   "metadata": {},
   "outputs": [
    {
     "name": "stdout",
     "output_type": "stream",
     "text": [
      "|-- A\n",
      "  |-- B\n",
      "    |-- D\n",
      "    |-- E\n",
      "  |-- C\n",
      "    |-- F\n"
     ]
    }
   ],
   "source": [
    "# Create a tree\n",
    "root = Node('A')\n",
    "node_b = Node('B')\n",
    "node_c = Node('C')\n",
    "node_d = Node('D')\n",
    "node_e = Node('E')\n",
    "node_f = Node('F')\n",
    "\n",
    "root.add_child(node_b)\n",
    "root.add_child(node_c)\n",
    "node_b.add_child(node_d)\n",
    "node_b.add_child(node_e)\n",
    "node_c.add_child(node_f)\n",
    "\n",
    "# Call the DFS function with the root of the tree\n",
    "dfs(root)"
   ]
  }
 ],
 "metadata": {
  "kernelspec": {
   "display_name": "Python 3",
   "language": "python",
   "name": "python3"
  },
  "language_info": {
   "codemirror_mode": {
    "name": "ipython",
    "version": 3
   },
   "file_extension": ".py",
   "mimetype": "text/x-python",
   "name": "python",
   "nbconvert_exporter": "python",
   "pygments_lexer": "ipython3",
   "version": "3.11.3"
  },
  "orig_nbformat": 4
 },
 "nbformat": 4,
 "nbformat_minor": 2
}
