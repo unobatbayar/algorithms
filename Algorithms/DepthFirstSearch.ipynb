{
 "cells": [
  {
   "attachments": {},
   "cell_type": "markdown",
   "metadata": {},
   "source": [
    "## Depth First Search"
   ]
  },
  {
   "cell_type": "code",
   "execution_count": 3,
   "metadata": {},
   "outputs": [
    {
     "name": "stdout",
     "output_type": "stream",
     "text": [
      "Visiting vertex: A\n",
      "Visiting vertex: B\n",
      "Visiting vertex: D\n",
      "Visiting vertex: E\n",
      "Visiting vertex: F\n",
      "Visiting vertex: C\n"
     ]
    }
   ],
   "source": [
    "# Define a graph as an adjacency list\n",
    "graph = {\n",
    "    'A': ['B', 'C'],\n",
    "    'B': ['D', 'E'],\n",
    "    'C': ['F'],\n",
    "    'D': [],\n",
    "    'E': ['F'],\n",
    "    'F': []\n",
    "}\n",
    "\n",
    "def dfs(graph, start, visited=None):\n",
    "    \"\"\"\n",
    "    Perform a Depth-First Search traversal of a graph.\n",
    "\n",
    "    :param graph: The graph represented as an adjacency list.\n",
    "    :param start: The starting vertex for the DFS traversal.\n",
    "    :param visited: A set to keep track of visited vertices (used internally).\n",
    "    \"\"\"\n",
    "\n",
    "    # Create an empty set to store visited vertices\n",
    "    # x = set(('A', 'B', 'C')) <- Example set\n",
    "    if visited is None:\n",
    "        visited = set()  \n",
    "\n",
    "    # Visit the current vertex and add it to the visited set\n",
    "    print(\"Visiting vertex:\", start)\n",
    "    visited.add(start)\n",
    "\n",
    "    # Traverse all adjacent vertices of the current vertex\n",
    "    for neighbor in graph[start]:\n",
    "        if neighbor not in visited:\n",
    "            dfs(graph, neighbor, visited)  # Recursive call to visit the neighbor\n",
    "\n",
    "# Call the DFS function with the graph and the starting vertex\n",
    "dfs(graph, 'A')"
   ]
  },
  {
   "cell_type": "code",
   "execution_count": 2,
   "metadata": {},
   "outputs": [
    {
     "name": "stdout",
     "output_type": "stream",
     "text": [
      "|-- A\n",
      "  |-- B\n",
      "    |-- D\n",
      "    |-- E\n",
      "  |-- C\n",
      "    |-- F\n"
     ]
    }
   ],
   "source": [
    "class Node:\n",
    "    def __init__(self, value):\n",
    "        self.value = value\n",
    "        self.children = []\n",
    "\n",
    "    def add_child(self, child):\n",
    "        self.children.append(child)\n",
    "\n",
    "def dfs(node, level=0):\n",
    "    \"\"\"\n",
    "    Perform a Depth-First Search traversal of a tree and visualize the tree structure.\n",
    "\n",
    "    :param node: The root node of the tree.\n",
    "    :param level: The current level of the tree (used internally for visualization).\n",
    "    \"\"\"\n",
    "    # Visualize the current node\n",
    "    print(\"  \" * level + \"|--\", node.value)\n",
    "\n",
    "    # Traverse all children of the current node\n",
    "    for child in node.children:\n",
    "        dfs(child, level + 1)  # Recursive call to visit the child\n",
    "\n",
    "# Create a tree\n",
    "root = Node('A')\n",
    "node_b = Node('B')\n",
    "node_c = Node('C')\n",
    "node_d = Node('D')\n",
    "node_e = Node('E')\n",
    "node_f = Node('F')\n",
    "\n",
    "root.add_child(node_b)\n",
    "root.add_child(node_c)\n",
    "node_b.add_child(node_d)\n",
    "node_b.add_child(node_e)\n",
    "node_c.add_child(node_f)\n",
    "\n",
    "# Call the DFS function with the root of the tree\n",
    "dfs(root)"
   ]
  }
 ],
 "metadata": {
  "kernelspec": {
   "display_name": "Python 3",
   "language": "python",
   "name": "python3"
  },
  "language_info": {
   "codemirror_mode": {
    "name": "ipython",
    "version": 3
   },
   "file_extension": ".py",
   "mimetype": "text/x-python",
   "name": "python",
   "nbconvert_exporter": "python",
   "pygments_lexer": "ipython3",
   "version": "3.11.3"
  },
  "orig_nbformat": 4
 },
 "nbformat": 4,
 "nbformat_minor": 2
}
