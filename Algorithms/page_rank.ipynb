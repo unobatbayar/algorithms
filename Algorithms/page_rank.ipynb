{
 "cells": [
  {
   "attachments": {},
   "cell_type": "markdown",
   "metadata": {},
   "source": [
    "## Page Rank\n",
    "Developed by Larry Page and Sergey Brin in 1996, revolutionized web search and played a significant role in the success of Google as a search engine. PageRank is an algorithm used to determine the importance or relevance of web pages based on their link structure."
   ]
  },
  {
   "cell_type": "code",
   "execution_count": 19,
   "metadata": {},
   "outputs": [
    {
     "name": "stdout",
     "output_type": "stream",
     "text": [
      "num_pages 3\n",
      "adjacency_matrix [[0. 0. 0.]\n",
      " [0. 0. 0.]\n",
      " [0. 0. 0.]]\n",
      "outlinks [0. 0. 0.]\n",
      "pagerank_vector [0.33333333 0.33333333 0.33333333]\n",
      "epsilon 0.0001\n",
      "Page 0: 0.43272942442848933\n",
      "Page 1: 0.23393724223817727\n",
      "Page 2: 0.3333333333333333\n"
     ]
    }
   ],
   "source": [
    "import numpy as np\n",
    "\n",
    "def pagerank(links, d=0.85, max_iterations=100, epsilon=1e-4):\n",
    "    num_pages = len(links)\n",
    "    adjacency_matrix = np.zeros((num_pages, num_pages))\n",
    "    outlinks = np.zeros(num_pages)\n",
    "    pagerank_vector = np.ones(num_pages) / num_pages\n",
    "\n",
    "    print(\"num_pages\", num_pages)\n",
    "    print(\"adjacency_matrix\", adjacency_matrix)\n",
    "    print(\"outlinks\", outlinks)\n",
    "    print(\"pagerank_vector\", pagerank_vector)\n",
    "    \n",
    "    # Create the adjacency matrix and count outlinks for each page\n",
    "    for i, page_links in enumerate(links):\n",
    "        outlinks[i] = len(page_links)\n",
    "        if outlinks[i] == 0:\n",
    "            # Handle pages with no outlinks\n",
    "            adjacency_matrix[:, i] = 1 / num_pages\n",
    "        else:\n",
    "            for link in page_links:\n",
    "                adjacency_matrix[link][i] = 1 / outlinks[i]\n",
    "\n",
    "    print(\"epsilon\", epsilon)\n",
    "    # Perform the PageRank iterations\n",
    "    for _ in range(max_iterations):\n",
    "        prev_pagerank_vector = pagerank_vector.copy()\n",
    "        pagerank_vector = (1 - d) / num_pages + d * np.dot(adjacency_matrix, pagerank_vector)\n",
    "\n",
    "        # Check for convergence\n",
    "        if np.linalg.norm(pagerank_vector - prev_pagerank_vector) < epsilon:\n",
    "            break\n",
    "\n",
    "    return pagerank_vector\n",
    "\n",
    "# Example usage\n",
    "# Define the web page links\n",
    "links = [\n",
    "    [1, 2],     # Page 0 links to pages 1 and 2\n",
    "    [0, 2],     # Page 1 links to pages 0 and 2\n",
    "    [0]         # Page 2 links to page 0\n",
    "]\n",
    "\n",
    "# Compute the PageRank scores\n",
    "scores = pagerank(links)\n",
    "\n",
    "# Print the PageRank scores\n",
    "for i, score in enumerate(scores):\n",
    "    print(f\"Page {i}: {score}\")\n"
   ]
  }
 ],
 "metadata": {
  "kernelspec": {
   "display_name": "Python 3",
   "language": "python",
   "name": "python3"
  },
  "language_info": {
   "codemirror_mode": {
    "name": "ipython",
    "version": 3
   },
   "file_extension": ".py",
   "mimetype": "text/x-python",
   "name": "python",
   "nbconvert_exporter": "python",
   "pygments_lexer": "ipython3",
   "version": "3.11.3"
  },
  "orig_nbformat": 4
 },
 "nbformat": 4,
 "nbformat_minor": 2
}
