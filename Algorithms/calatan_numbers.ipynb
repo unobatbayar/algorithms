{
 "cells": [
  {
   "attachments": {},
   "cell_type": "markdown",
   "metadata": {},
   "source": [
    "## Catalan Numbers"
   ]
  },
  {
   "cell_type": "code",
   "execution_count": null,
   "metadata": {
    "vscode": {
     "languageId": "plaintext"
    }
   },
   "outputs": [],
   "source": [
    "def catalan_number(n):\n",
    "    \"\"\"\n",
    "    Calculates the nth Catalan number using the Catalan number algorithm.\n",
    "    \n",
    "    Args:\n",
    "        n (int): The index of the desired Catalan number.\n",
    "    \n",
    "    Returns:\n",
    "        int: The nth Catalan number.\n",
    "    \"\"\"\n",
    "    # Base case: Catalan number for n = 0 or n = 1 is 1\n",
    "    if n == 0 or n == 1:\n",
    "        return 1\n",
    "    \n",
    "    # Initialize the result variable\n",
    "    result = 0\n",
    "    \n",
    "    # Iterate from i = 0 to n-1\n",
    "    for i in range(n):\n",
    "        # Compute the product of two terms: (2*(i+1)*(2*(i+1)-1))\n",
    "        # and the Catalan number calculated recursively for i\n",
    "        product = (2 * (i + 1) * (2 * (i + 1) - 1)) * catalan_number(i)\n",
    "        \n",
    "        # Add the product to the result\n",
    "        result += product\n",
    "    \n",
    "    # Return the computed result\n",
    "    return result\n",
    "\n",
    "print(catalan_number(n))"
   ]
  },
  {
   "cell_type": "code",
   "execution_count": null,
   "metadata": {
    "vscode": {
     "languageId": "plaintext"
    }
   },
   "outputs": [],
   "source": []
  }
 ],
 "metadata": {
  "language_info": {
   "name": "python"
  },
  "orig_nbformat": 4
 },
 "nbformat": 4,
 "nbformat_minor": 2
}
