{
 "cells": [
  {
   "attachments": {},
   "cell_type": "markdown",
   "metadata": {},
   "source": [
    "## Bucket Sort\t\n",
    "\n",
    "- Data structure: Array\n",
    "- Worst-case performance: O(n²)\n",
    "- Average performance: O(n + k)\n",
    "- Worst-case space complexity: O(n+k)"
   ]
  },
  {
   "cell_type": "code",
   "execution_count": null,
   "metadata": {},
   "outputs": [],
   "source": [
    "def insertionSort(array): \n",
    "    for i in range(1, len(array)): \n",
    "        up = array[i] \n",
    "        j = i - 1\n",
    "        while j >=0 and array[j] > up:  \n",
    "            array[j + 1] = array[j] \n",
    "            j -= 1\n",
    "        array[j + 1] = up      \n",
    "    return array   \n",
    "              \n",
    "def bucketSort(array): \n",
    "    arr = [] # empty array\n",
    "    slot_num = 10 # 10 means 10 slots, each \n",
    "                  # slot's size is 0.1 \n",
    "    for i in range(slot_num): \n",
    "        arr.append([]) \n",
    "          \n",
    "    # Put array elements in different buckets  \n",
    "    for j in array: \n",
    "        index_b = int(slot_num * j)  \n",
    "        arr[index_b].append(j) \n",
    "      \n",
    "    # Sort individual buckets  \n",
    "    for i in range(slot_num): \n",
    "        arr[i] = insertionSort(arr[i]) \n",
    "          \n",
    "    # concatenate the result \n",
    "    k = 0\n",
    "    for i in range(slot_num): \n",
    "        for j in range(len(arr[i])): \n",
    "            array[k] = arr[i][j] \n",
    "            k += 1\n",
    "    return array \n",
    "\n",
    "title = 'Welcome to BucketSort Algorithm!'\n",
    "array = [0.12, 0.1, 0.2, 0.5, 0.11, 0.59]  \n",
    "print(\"Sorted Array is\") \n",
    "print(bucketSort(array)) "
   ]
  }
 ],
 "metadata": {
  "kernelspec": {
   "display_name": "Python 3",
   "language": "python",
   "name": "python3"
  },
  "language_info": {
   "name": "python",
   "version": "3.11.3"
  },
  "orig_nbformat": 4
 },
 "nbformat": 4,
 "nbformat_minor": 2
}
