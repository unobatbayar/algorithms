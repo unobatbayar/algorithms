{
 "cells": [
  {
   "attachments": {},
   "cell_type": "markdown",
   "metadata": {},
   "source": [
    "## A* Pathfinding"
   ]
  },
  {
   "cell_type": "code",
   "execution_count": 2,
   "metadata": {},
   "outputs": [
    {
     "name": "stdout",
     "output_type": "stream",
     "text": [
      "Shortest path: [(0, 0), (0, 1), (0, 2), (1, 2), (2, 2), (2, 3), (2, 4), (2, 5), (2, 6), (3, 6), (4, 6), (5, 6), (6, 6), (7, 6), (8, 6), (9, 6)]\n"
     ]
    }
   ],
   "source": [
    "import heapq\n",
    "\n",
    "# Function to calculate the Manhattan distance between two points (coordinates)\n",
    "def manhattan_distance(point1, point2):\n",
    "    x1, y1 = point1\n",
    "    x2, y2 = point2\n",
    "    return abs(x1 - x2) + abs(y1 - y2)\n",
    "\n",
    "# A* search algorithm\n",
    "def astar_search(grid, start, goal):\n",
    "    open_set = []\n",
    "    heapq.heappush(open_set, (0, start))\n",
    "    came_from = {}\n",
    "    g_score = {start: 0}\n",
    "\n",
    "    while open_set:\n",
    "        _, current = heapq.heappop(open_set)\n",
    "\n",
    "        if current == goal:\n",
    "            # Goal reached, reconstruct the path\n",
    "            path = []\n",
    "            while current in came_from:\n",
    "                path.append(current)\n",
    "                current = came_from[current]\n",
    "            path.append(start)\n",
    "            path.reverse()\n",
    "            return path\n",
    "\n",
    "        for neighbor in get_neighbors(current, grid):\n",
    "            tentative_g_score = g_score[current] + 1\n",
    "            if neighbor not in g_score or tentative_g_score < g_score[neighbor]:\n",
    "                g_score[neighbor] = tentative_g_score\n",
    "                f_score = tentative_g_score + manhattan_distance(neighbor, goal)\n",
    "                heapq.heappush(open_set, (f_score, neighbor))\n",
    "                came_from[neighbor] = current\n",
    "\n",
    "    # Open set is empty and goal was not reached, return an empty path\n",
    "    return []\n",
    "\n",
    "# Function to get valid neighbors of a grid cell\n",
    "def get_neighbors(cell, grid):\n",
    "    row, col = cell\n",
    "    rows = len(grid)\n",
    "    cols = len(grid[0])\n",
    "    neighbors = []\n",
    "    if row > 0 and grid[row - 1][col] != '#':\n",
    "        neighbors.append((row - 1, col))\n",
    "    if row < rows - 1 and grid[row + 1][col] != '#':\n",
    "        neighbors.append((row + 1, col))\n",
    "    if col > 0 and grid[row][col - 1] != '#':\n",
    "        neighbors.append((row, col - 1))\n",
    "    if col < cols - 1 and grid[row][col + 1] != '#':\n",
    "        neighbors.append((row, col + 1))\n",
    "    return neighbors\n",
    "\n",
    "# Example usage\n",
    "\n",
    "# Define the grid as a 2D list\n",
    "grid = [\n",
    "    ['S', '.', '.', '#', '.', '.', '.'],\n",
    "    ['.', '#', '.', '#', '.', '#', '.'],\n",
    "    ['.', '#', '.', '.', '.', '.', '.'],\n",
    "    ['.', '.', '#', '#', '.', '#', '.'],\n",
    "    ['.', '.', '#', '#', '.', '#', '.'],\n",
    "    ['.', '.', '#', '#', '.', '#', '.'],\n",
    "    ['.', '.', '#', '#', '.', '#', '.'],\n",
    "    ['.', '.', '#', '#', '.', '#', '.'],\n",
    "    ['.', '.', '#', '#', '.', '#', '.'],\n",
    "    ['#', '.', '#', '.', '.', '#', 'G']\n",
    "]\n",
    "\n",
    "start = (0, 0)\n",
    "goal = (9, 6)\n",
    "\n",
    "# Find the shortest path using A* search\n",
    "path = astar_search(grid, start, goal)\n",
    "\n",
    "print(\"Shortest path:\", path)"
   ]
  }
 ],
 "metadata": {
  "kernelspec": {
   "display_name": "Python 3",
   "language": "python",
   "name": "python3"
  },
  "language_info": {
   "codemirror_mode": {
    "name": "ipython",
    "version": 3
   },
   "file_extension": ".py",
   "mimetype": "text/x-python",
   "name": "python",
   "nbconvert_exporter": "python",
   "pygments_lexer": "ipython3",
   "version": "3.11.3"
  },
  "orig_nbformat": 4
 },
 "nbformat": 4,
 "nbformat_minor": 2
}
