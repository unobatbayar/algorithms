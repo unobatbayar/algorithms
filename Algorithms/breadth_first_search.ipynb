{
 "cells": [
  {
   "attachments": {},
   "cell_type": "markdown",
   "metadata": {},
   "source": [
    "## Breadth First Search\n",
    "A graph traversal algorithm that explores all the vertices of a graph in breadthward motion, visiting all the vertices at the current depth before moving on to the vertices at the next depth.\n",
    "\n",
    "It has variety of use cases such as:\n",
    "- Graph Traversal\n",
    "- Shortest Path\n",
    "- Web Crawling\n",
    "- Social Network Analysis\n",
    "- Puzzle Solving"
   ]
  },
  {
   "cell_type": "code",
   "execution_count": 28,
   "metadata": {},
   "outputs": [],
   "source": [
    "from collections import deque\n",
    "\n",
    "def bfs(graph, start):\n",
    "    visited = set()          # Set to keep track of visited nodes\n",
    "    queue = deque([start])   # Initialize the queue with the starting node (FIFO)\n",
    "    \n",
    "    while queue:\n",
    "        node = queue.popleft()\n",
    "        if node not in visited:\n",
    "            print(node)       # Process the current node (in this case, printing it)\n",
    "            visited.add(node) # Mark the node as visited\n",
    "            \n",
    "            # Add the neighbors of the current node to the queue\n",
    "            for neighbor in graph[node]:\n",
    "                if neighbor not in visited:\n",
    "                    queue.append(neighbor)"
   ]
  },
  {
   "cell_type": "code",
   "execution_count": 29,
   "metadata": {},
   "outputs": [
    {
     "name": "stdout",
     "output_type": "stream",
     "text": [
      "A\n",
      "B\n",
      "C\n",
      "D\n",
      "E\n",
      "F\n"
     ]
    }
   ],
   "source": [
    "graph = {\n",
    "    'A': ['B', 'C'],\n",
    "    'B': ['A', 'D', 'E'],\n",
    "    'C': ['A', 'F'],\n",
    "    'D': ['B'],\n",
    "    'E': ['B', 'F'],\n",
    "    'F': ['C', 'E']\n",
    "}\n",
    "\n",
    "start_node = 'A'\n",
    "bfs(graph, start_node)"
   ]
  },
  {
   "cell_type": "code",
   "execution_count": 30,
   "metadata": {},
   "outputs": [
    {
     "name": "stdout",
     "output_type": "stream",
     "text": [
      "Shortest path from A to E: A -> B -> E\n"
     ]
    }
   ],
   "source": [
    "def bfs_shortest_path(graph, start, end):\n",
    "    # Queue for BFS traversal\n",
    "    queue = deque([(start, [start])])\n",
    "    \n",
    "    # Visited set to keep track of visited nodes\n",
    "    visited = set([start])\n",
    "    \n",
    "    while queue:\n",
    "        node, path = queue.popleft()\n",
    "        \n",
    "        # Check if we reached the end node\n",
    "        if node == end:\n",
    "            return path\n",
    "        \n",
    "        # Explore adjacent nodes\n",
    "        for neighbor in graph[node]:\n",
    "            if neighbor not in visited:\n",
    "                # Add neighbor to the visited set and enqueue its path\n",
    "                visited.add(neighbor)\n",
    "                queue.append((neighbor, path + [neighbor]))\n",
    "    \n",
    "    # No path found\n",
    "    return None\n",
    "\n",
    "# Example usage\n",
    "graph = {\n",
    "    'A': ['B', 'C'],\n",
    "    'B': ['A', 'D', 'E'],\n",
    "    'C': ['A', 'F'],\n",
    "    'D': ['B'],\n",
    "    'E': ['B', 'F'],\n",
    "    'F': ['C', 'E']\n",
    "}\n",
    "\n",
    "start_node = 'A'\n",
    "end_node = 'E'\n",
    "\n",
    "shortest_path = bfs_shortest_path(graph, start_node, end_node)\n",
    "\n",
    "if shortest_path:\n",
    "    print(f\"Shortest path from {start_node} to {end_node}: {' -> '.join(shortest_path)}\")\n",
    "else:\n",
    "    print(f\"No path found from {start_node} to {end_node}\")\n"
   ]
  },
  {
   "cell_type": "code",
   "execution_count": 31,
   "metadata": {},
   "outputs": [
    {
     "name": "stdout",
     "output_type": "stream",
     "text": [
      "[['A'], ['B']]\n"
     ]
    }
   ],
   "source": [
    "from collections import deque\n",
    "\n",
    "class TreeNode:\n",
    "    def __init__(self, value):\n",
    "        self.value = value\n",
    "        self.left = None\n",
    "        self.right = None\n",
    "\n",
    "def bfs(root):\n",
    "    if root is None:\n",
    "        return []\n",
    "\n",
    "    result = []\n",
    "    queue = deque()\n",
    "    queue.append(root)\n",
    "\n",
    "    while queue:\n",
    "        level_size = len(queue)\n",
    "        current_level = []\n",
    "\n",
    "        for _ in range(level_size):\n",
    "            node = queue.popleft()\n",
    "            current_level.append(node.value)\n",
    "\n",
    "            if node.left:\n",
    "                queue.append(node.left)\n",
    "            if node.right:\n",
    "                queue.append(node.right)\n",
    "\n",
    "        result.append(current_level)\n",
    "\n",
    "    return result\n",
    "\n",
    "\n",
    "# Create nodes\n",
    "root = TreeNode('A')\n",
    "node_b = TreeNode('B')\n",
    "node_c = TreeNode('C')\n",
    "node_d = TreeNode('D')\n",
    "node_e = TreeNode('E')\n",
    "node_f = TreeNode('F')\n",
    "\n",
    "# Connect nodes\n",
    "root.left = node_b\n",
    "root.right = node_c\n",
    "node_b.left = node_d\n",
    "node_b.right = node_e\n",
    "node_c.right = node_f\n",
    "\n",
    "'''\n",
    "        A\n",
    "       / \\\n",
    "      B   C\n",
    "     / \\   \\\n",
    "    D   E   F\n",
    "\n",
    "'''\n",
    "# Perform BFS\n",
    "result = bfs(root)\n",
    "print(result)"
   ]
  },
  {
   "attachments": {},
   "cell_type": "markdown",
   "metadata": {},
   "source": [
    "## Maximum depth"
   ]
  },
  {
   "cell_type": "code",
   "execution_count": 33,
   "metadata": {},
   "outputs": [
    {
     "name": "stdout",
     "output_type": "stream",
     "text": [
      "1\n"
     ]
    }
   ],
   "source": [
    "def max_depth(root):\n",
    "    if root is None:\n",
    "        return 0\n",
    "\n",
    "    left_depth = max_depth(root.left)\n",
    "    right_depth = max_depth(root.right)\n",
    "\n",
    "    return max(left_depth, right_depth) + 1\n",
    "\n",
    "print(max_depth(root))"
   ]
  }
 ],
 "metadata": {
  "kernelspec": {
   "display_name": "Python 3",
   "language": "python",
   "name": "python3"
  },
  "language_info": {
   "codemirror_mode": {
    "name": "ipython",
    "version": 3
   },
   "file_extension": ".py",
   "mimetype": "text/x-python",
   "name": "python",
   "nbconvert_exporter": "python",
   "pygments_lexer": "ipython3",
   "version": "3.11.3"
  },
  "orig_nbformat": 4
 },
 "nbformat": 4,
 "nbformat_minor": 2
}
