{
 "cells": [
  {
   "attachments": {},
   "cell_type": "markdown",
   "metadata": {},
   "source": [
    "## Breadth First Search\n",
    "A graph traversal algorithm that explores all the vertices of a graph in breadthward motion, visiting all the vertices at the current depth before moving on to the vertices at the next depth.\n",
    "\n",
    "It has variety of use cases such as:\n",
    "- Graph Traversal\n",
    "- Shortest Path\n",
    "- Web Crawling\n",
    "- Social Network Analysis\n",
    "- Puzzle Solving"
   ]
  }
 ],
 "metadata": {
  "language_info": {
   "name": "python"
  },
  "orig_nbformat": 4
 },
 "nbformat": 4,
 "nbformat_minor": 2
}
