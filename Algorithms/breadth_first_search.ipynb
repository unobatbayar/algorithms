{
 "cells": [
  {
   "attachments": {},
   "cell_type": "markdown",
   "metadata": {},
   "source": [
    "## Breadth First Search\n",
    "A graph traversal algorithm that explores all the vertices of a graph in breadthward motion, visiting all the vertices at the current depth before moving on to the vertices at the next depth.\n",
    "\n",
    "It has variety of use cases such as:\n",
    "- Graph Traversal\n",
    "- Shortest Path\n",
    "- Web Crawling\n",
    "- Social Network Analysis\n",
    "- Puzzle Solving"
   ]
  },
  {
   "cell_type": "code",
   "execution_count": 6,
   "metadata": {},
   "outputs": [],
   "source": [
    "from collections import deque\n",
    "\n",
    "def bfs(graph, start):\n",
    "    visited = set()          # Set to keep track of visited nodes\n",
    "    queue = deque([start])   # Initialize the queue with the starting node (FIFO)\n",
    "    \n",
    "    while queue:\n",
    "        node = queue.popleft()\n",
    "        if node not in visited:\n",
    "            print(node)       # Process the current node (in this case, printing it)\n",
    "            visited.add(node) # Mark the node as visited\n",
    "            \n",
    "            # Add the neighbors of the current node to the queue\n",
    "            for neighbor in graph[node]:\n",
    "                if neighbor not in visited:\n",
    "                    queue.append(neighbor)"
   ]
  },
  {
   "cell_type": "code",
   "execution_count": 7,
   "metadata": {},
   "outputs": [
    {
     "name": "stdout",
     "output_type": "stream",
     "text": [
      "A\n",
      "B\n",
      "C\n",
      "D\n",
      "E\n",
      "F\n"
     ]
    }
   ],
   "source": [
    "graph = {\n",
    "    'A': ['B', 'C'],\n",
    "    'B': ['A', 'D', 'E'],\n",
    "    'C': ['A', 'F'],\n",
    "    'D': ['B'],\n",
    "    'E': ['B', 'F'],\n",
    "    'F': ['C', 'E']\n",
    "}\n",
    "\n",
    "start_node = 'A'\n",
    "bfs(graph, start_node)"
   ]
  },
  {
   "cell_type": "code",
   "execution_count": 8,
   "metadata": {},
   "outputs": [
    {
     "name": "stdout",
     "output_type": "stream",
     "text": [
      "Shortest path from A to F: A -> C -> F\n"
     ]
    }
   ],
   "source": [
    "def bfs_shortest_path(graph, start, end):\n",
    "    # Queue for BFS traversal\n",
    "    queue = deque([(start, [start])])\n",
    "    \n",
    "    # Visited set to keep track of visited nodes\n",
    "    visited = set([start])\n",
    "    \n",
    "    while queue:\n",
    "        node, path = queue.popleft()\n",
    "        \n",
    "        # Check if we reached the end node\n",
    "        if node == end:\n",
    "            return path\n",
    "        \n",
    "        # Explore adjacent nodes\n",
    "        for neighbor in graph[node]:\n",
    "            if neighbor not in visited:\n",
    "                # Add neighbor to the visited set and enqueue its path\n",
    "                visited.add(neighbor)\n",
    "                queue.append((neighbor, path + [neighbor]))\n",
    "    \n",
    "    # No path found\n",
    "    return None\n",
    "\n",
    "# Example usage\n",
    "graph = {\n",
    "    'A': ['B', 'C'],\n",
    "    'B': ['A', 'D', 'E'],\n",
    "    'C': ['A', 'F'],\n",
    "    'D': ['B'],\n",
    "    'E': ['B', 'F'],\n",
    "    'F': ['C', 'E']\n",
    "}\n",
    "\n",
    "start_node = 'A'\n",
    "end_node = 'E'\n",
    "\n",
    "shortest_path = bfs_shortest_path(graph, start_node, end_node)\n",
    "\n",
    "if shortest_path:\n",
    "    print(f\"Shortest path from {start_node} to {end_node}: {' -> '.join(shortest_path)}\")\n",
    "else:\n",
    "    print(f\"No path found from {start_node} to {end_node}\")\n"
   ]
  }
 ],
 "metadata": {
  "kernelspec": {
   "display_name": "Python 3",
   "language": "python",
   "name": "python3"
  },
  "language_info": {
   "codemirror_mode": {
    "name": "ipython",
    "version": 3
   },
   "file_extension": ".py",
   "mimetype": "text/x-python",
   "name": "python",
   "nbconvert_exporter": "python",
   "pygments_lexer": "ipython3",
   "version": "3.11.3"
  },
  "orig_nbformat": 4
 },
 "nbformat": 4,
 "nbformat_minor": 2
}
